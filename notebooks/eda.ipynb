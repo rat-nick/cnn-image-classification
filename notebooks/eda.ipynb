{
 "cells": [
  {
   "cell_type": "code",
   "execution_count": 1,
   "metadata": {},
   "outputs": [
    {
     "data": {
      "application/vnd.microsoft.datawrangler.viewer.v0+json": {
       "columns": [
        {
         "name": "index",
         "rawType": "int64",
         "type": "integer"
        },
        {
         "name": "action",
         "rawType": "int64",
         "type": "integer"
        },
        {
         "name": "adventure",
         "rawType": "int64",
         "type": "integer"
        },
        {
         "name": "fantasy",
         "rawType": "int64",
         "type": "integer"
        }
       ],
       "conversionMethod": "pd.DataFrame",
       "ref": "4d14aa6c-ae22-42db-95d2-c3c3b444a686",
       "rows": [
        [
         "0",
         "0",
         "0",
         "0"
        ],
        [
         "1",
         "0",
         "0",
         "0"
        ],
        [
         "2",
         "0",
         "0",
         "1"
        ],
        [
         "3",
         "1",
         "1",
         "1"
        ],
        [
         "4",
         "0",
         "0",
         "0"
        ],
        [
         "5",
         "0",
         "0",
         "0"
        ],
        [
         "6",
         "0",
         "0",
         "1"
        ],
        [
         "7",
         "1",
         "0",
         "0"
        ],
        [
         "8",
         "0",
         "0",
         "0"
        ],
        [
         "9",
         "0",
         "0",
         "0"
        ],
        [
         "10",
         "0",
         "0",
         "0"
        ],
        [
         "11",
         "0",
         "0",
         "0"
        ],
        [
         "12",
         "0",
         "0",
         "0"
        ],
        [
         "13",
         "0",
         "0",
         "0"
        ],
        [
         "14",
         "0",
         "0",
         "0"
        ],
        [
         "15",
         "1",
         "1",
         "0"
        ],
        [
         "16",
         "0",
         "0",
         "0"
        ],
        [
         "17",
         "0",
         "0",
         "0"
        ],
        [
         "18",
         "1",
         "1",
         "1"
        ],
        [
         "19",
         "0",
         "0",
         "0"
        ],
        [
         "20",
         "0",
         "0",
         "0"
        ],
        [
         "21",
         "0",
         "0",
         "0"
        ],
        [
         "22",
         "0",
         "0",
         "0"
        ],
        [
         "23",
         "0",
         "0",
         "0"
        ],
        [
         "24",
         "1",
         "0",
         "0"
        ],
        [
         "25",
         "0",
         "0",
         "0"
        ],
        [
         "26",
         "0",
         "0",
         "0"
        ],
        [
         "27",
         "0",
         "0",
         "0"
        ],
        [
         "28",
         "1",
         "0",
         "0"
        ],
        [
         "29",
         "0",
         "0",
         "0"
        ],
        [
         "30",
         "1",
         "0",
         "1"
        ],
        [
         "31",
         "0",
         "0",
         "0"
        ],
        [
         "32",
         "0",
         "0",
         "0"
        ],
        [
         "33",
         "0",
         "0",
         "0"
        ],
        [
         "34",
         "0",
         "0",
         "0"
        ],
        [
         "35",
         "0",
         "0",
         "0"
        ],
        [
         "36",
         "0",
         "0",
         "0"
        ],
        [
         "37",
         "0",
         "0",
         "0"
        ],
        [
         "38",
         "0",
         "0",
         "0"
        ],
        [
         "39",
         "0",
         "0",
         "0"
        ],
        [
         "40",
         "0",
         "0",
         "0"
        ],
        [
         "41",
         "0",
         "0",
         "1"
        ],
        [
         "42",
         "0",
         "0",
         "0"
        ],
        [
         "43",
         "0",
         "0",
         "0"
        ],
        [
         "44",
         "0",
         "0",
         "0"
        ],
        [
         "45",
         "0",
         "0",
         "0"
        ],
        [
         "46",
         "1",
         "0",
         "0"
        ],
        [
         "47",
         "0",
         "0",
         "0"
        ],
        [
         "48",
         "0",
         "0",
         "0"
        ],
        [
         "49",
         "0",
         "0",
         "0"
        ]
       ],
       "shape": {
        "columns": 3,
        "rows": 24421
       }
      },
      "text/html": [
       "<div>\n",
       "<style scoped>\n",
       "    .dataframe tbody tr th:only-of-type {\n",
       "        vertical-align: middle;\n",
       "    }\n",
       "\n",
       "    .dataframe tbody tr th {\n",
       "        vertical-align: top;\n",
       "    }\n",
       "\n",
       "    .dataframe thead th {\n",
       "        text-align: right;\n",
       "    }\n",
       "</style>\n",
       "<table border=\"1\" class=\"dataframe\">\n",
       "  <thead>\n",
       "    <tr style=\"text-align: right;\">\n",
       "      <th></th>\n",
       "      <th>action</th>\n",
       "      <th>adventure</th>\n",
       "      <th>fantasy</th>\n",
       "    </tr>\n",
       "  </thead>\n",
       "  <tbody>\n",
       "    <tr>\n",
       "      <th>0</th>\n",
       "      <td>0</td>\n",
       "      <td>0</td>\n",
       "      <td>0</td>\n",
       "    </tr>\n",
       "    <tr>\n",
       "      <th>1</th>\n",
       "      <td>0</td>\n",
       "      <td>0</td>\n",
       "      <td>0</td>\n",
       "    </tr>\n",
       "    <tr>\n",
       "      <th>2</th>\n",
       "      <td>0</td>\n",
       "      <td>0</td>\n",
       "      <td>1</td>\n",
       "    </tr>\n",
       "    <tr>\n",
       "      <th>3</th>\n",
       "      <td>1</td>\n",
       "      <td>1</td>\n",
       "      <td>1</td>\n",
       "    </tr>\n",
       "    <tr>\n",
       "      <th>4</th>\n",
       "      <td>0</td>\n",
       "      <td>0</td>\n",
       "      <td>0</td>\n",
       "    </tr>\n",
       "    <tr>\n",
       "      <th>...</th>\n",
       "      <td>...</td>\n",
       "      <td>...</td>\n",
       "      <td>...</td>\n",
       "    </tr>\n",
       "    <tr>\n",
       "      <th>24593</th>\n",
       "      <td>0</td>\n",
       "      <td>0</td>\n",
       "      <td>0</td>\n",
       "    </tr>\n",
       "    <tr>\n",
       "      <th>24594</th>\n",
       "      <td>0</td>\n",
       "      <td>0</td>\n",
       "      <td>0</td>\n",
       "    </tr>\n",
       "    <tr>\n",
       "      <th>24595</th>\n",
       "      <td>0</td>\n",
       "      <td>0</td>\n",
       "      <td>0</td>\n",
       "    </tr>\n",
       "    <tr>\n",
       "      <th>24596</th>\n",
       "      <td>0</td>\n",
       "      <td>0</td>\n",
       "      <td>0</td>\n",
       "    </tr>\n",
       "    <tr>\n",
       "      <th>24597</th>\n",
       "      <td>0</td>\n",
       "      <td>0</td>\n",
       "      <td>0</td>\n",
       "    </tr>\n",
       "  </tbody>\n",
       "</table>\n",
       "<p>24421 rows × 3 columns</p>\n",
       "</div>"
      ],
      "text/plain": [
       "       action  adventure  fantasy\n",
       "0           0          0        0\n",
       "1           0          0        0\n",
       "2           0          0        1\n",
       "3           1          1        1\n",
       "4           0          0        0\n",
       "...       ...        ...      ...\n",
       "24593       0          0        0\n",
       "24594       0          0        0\n",
       "24595       0          0        0\n",
       "24596       0          0        0\n",
       "24597       0          0        0\n",
       "\n",
       "[24421 rows x 3 columns]"
      ]
     },
     "metadata": {},
     "output_type": "display_data"
    }
   ],
   "source": [
    "import os\n",
    "import sys\n",
    "sys.path.append(os.path.join(os.getcwd(), '..'))\n",
    "\n",
    "import pandas as pd\n",
    "from utils import one_hot_encode_genres, drop_missing_poster\n",
    "df = pd.read_csv('../datasets/anime.csv')\n",
    "\n",
    "df = one_hot_encode_genres(df)\n",
    "df = drop_missing_poster(df)\n",
    "# Show all column names\n",
    "display(df[['action', 'adventure','fantasy']])"
   ]
  },
  {
   "cell_type": "code",
   "execution_count": 3,
   "metadata": {},
   "outputs": [
    {
     "data": {
      "image/png": "[encoded data removed]",
      "text/plain": [
       "<Figure size 1000x700 with 1 Axes>"
      ]
     },
     "metadata": {},
     "output_type": "display_data"
    }
   ],
   "source": [
    "import matplotlib.pyplot as plt\n",
    "\n",
    "# List of columns to plot\n",
    "columns_to_plot = ['action', 'adventure', 'comedy', 'drama', 'fantasy', 'mystery', 'romance', 'sci-fi', 'sliceoflife', 'supernatural']\n",
    "\n",
    "# Calculate the distribution of values for each column and plot a stacked bar chart\n",
    "df_percentage = df[columns_to_plot].apply(lambda x: x.value_counts(normalize=True)).fillna(0).T\n",
    "\n",
    "# Plotting\n",
    "df_percentage.plot(kind='bar', stacked=True, figsize=(10, 7))\n",
    "plt.title('Distribution of Values for Each Genre')\n",
    "plt.xlabel('Genre')\n",
    "plt.ylabel('Percentage')\n",
    "plt.legend(title='Value', bbox_to_anchor=(1.05, 1), loc='upper left')\n",
    "plt.show()\n",
    "\n"
   ]
  },
  {
   "cell_type": "markdown",
   "metadata": {},
   "source": [
    "The genre that has the best balance comedy, so that will be our target variable."
   ]
  },
  {
   "cell_type": "code",
   "execution_count": 13,
   "metadata": {},
   "outputs": [
    {
     "data": {
      "text/html": [
       "<h3>Comedy Anime:</h3><img src=\"https://cdn.myanimelist.net/images/anime/1422/94856.jpg\" style=\"width:150px; margin:10px;\"><img src=\"https://cdn.myanimelist.net/images/anime/1594/108288.jpg\" style=\"width:150px; margin:10px;\"><img src=\"https://cdn.myanimelist.net/images/anime/12/88334.jpg\" style=\"width:150px; margin:10px;\"><br><h3>Non-Comedy Anime:</h3><img src=\"https://cdn.myanimelist.net/images/anime/1265/103356.jpg\" style=\"width:150px; margin:10px;\"><img src=\"https://cdn.myanimelist.net/images/anime/8/29825.jpg\" style=\"width:150px; margin:10px;\"><img src=\"https://cdn.myanimelist.net/images/anime/1603/131399.jpg\" style=\"width:150px; margin:10px;\">"
      ]
     },
     "metadata": {},
     "output_type": "display_data"
    }
   ],
   "source": [
    "from IPython.display import Image, display_html\n",
    "\n",
    "# Get three random comedy anime\n",
    "comedy_anime = df[df['comedy'] == 1].sample(3)\n",
    "\n",
    "# Get three random non-comedy anime\n",
    "non_comedy_anime = df[df['comedy'] == 0].sample(3)\n",
    "\n",
    "# Display posters for comedy anime\n",
    "comedy_html = \"<h3>Comedy Anime:</h3>\"\n",
    "for index, row in comedy_anime.iterrows():\n",
    "    comedy_html += f'<img src=\"{row[\"poster_url\"]}\" style=\"width:150px; margin:10px;\">'\n",
    "\n",
    "# Display posters for non-comedy anime\n",
    "non_comedy_html = \"<h3>Non-Comedy Anime:</h3>\"\n",
    "for index, row in non_comedy_anime.iterrows():\n",
    "    non_comedy_html += f'<img src=\"{row[\"poster_url\"]}\" style=\"width:150px; margin:10px;\">'\n",
    "\n",
    "# Combine and display\n",
    "display_html(comedy_html + \"<br>\" + non_comedy_html, raw=True)"
   ]
  },
  {
   "cell_type": "code",
   "execution_count": null,
   "metadata": {},
   "outputs": [],
   "source": []
  },
  {
   "cell_type": "code",
   "execution_count": null,
   "metadata": {},
   "outputs": [],
   "source": []
  }
 ],
 "metadata": {
  "kernelspec": {
   "display_name": "env",
   "language": "python",
   "name": "python3"
  },
  "language_info": {
   "codemirror_mode": {
    "name": "ipython",
    "version": 3
   },
   "file_extension": ".py",
   "mimetype": "text/x-python",
   "name": "python",
   "nbconvert_exporter": "python",
   "pygments_lexer": "ipython3",
   "version": "3.9.7"
  }
 },
 "nbformat": 4,
 "nbformat_minor": 2
}
